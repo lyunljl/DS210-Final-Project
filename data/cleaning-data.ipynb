{
 "cells": [
  {
   "cell_type": "code",
   "execution_count": 9,
   "metadata": {},
   "outputs": [
    {
     "name": "stdout",
     "output_type": "stream",
     "text": [
      "Final cleaned dataset has 2770409 rows and 6 columns.\n",
      "Saved cleaned dataset as 'cleaned_fraud_dataset.csv'\n",
      "   step      type     amount     nameOrig     nameDest  isFraud\n",
      "0     1  TRANSFER     181.00  C1305486145   C553264065        1\n",
      "1     1  CASH_OUT     181.00   C840083671    C38997010        1\n",
      "2     1  CASH_OUT  229133.94   C905080434   C476402209        0\n",
      "3     1  TRANSFER  215310.30  C1670993182  C1100439041        0\n",
      "4     1  TRANSFER  311685.89  C1984094095   C932583850        0\n"
     ]
    }
   ],
   "source": [
    "import pandas as pd\n",
    "\n",
    "# Load data\n",
    "df = pd.read_csv('Synthetic Financial Datasets For Fraud Detection.csv')\n",
    "\n",
    "# Drop illegal balance columns\n",
    "columns_to_drop = [\n",
    "    'oldbalanceOrg', 'newbalanceOrig',\n",
    "    'oldbalanceDest', 'newbalanceDest'\n",
    "]\n",
    "df = df.drop(columns=columns_to_drop)\n",
    "\n",
    "# Keep only TRANSFER and CASH_OUT types\n",
    "df = df[df['type'].isin(['TRANSFER', 'CASH_OUT'])]\n",
    "\n",
    "# Drop missing values and reset index\n",
    "df = df.dropna().reset_index(drop=True)\n",
    "\n",
    "# Keep only important columns\n",
    "df = df[['step', 'type', 'amount', 'nameOrig', 'nameDest', 'isFraud']]\n",
    "\n",
    "# SAVE the cleaned dataset\n",
    "df.to_csv('cleaned_fraud_dataset.csv', index=False)\n",
    "\n",
    "print(f\"Final cleaned dataset has {df.shape[0]} rows and {df.shape[1]} columns.\")\n",
    "print(f\"Saved cleaned dataset as 'cleaned_fraud_dataset.csv'\")\n",
    "print(df.head())\n"
   ]
  }
 ],
 "metadata": {
  "kernelspec": {
   "display_name": "base",
   "language": "python",
   "name": "python3"
  },
  "language_info": {
   "codemirror_mode": {
    "name": "ipython",
    "version": 3
   },
   "file_extension": ".py",
   "mimetype": "text/x-python",
   "name": "python",
   "nbconvert_exporter": "python",
   "pygments_lexer": "ipython3",
   "version": "3.12.7"
  }
 },
 "nbformat": 4,
 "nbformat_minor": 2
}
